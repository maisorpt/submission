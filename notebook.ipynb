{
 "cells": [
  {
   "cell_type": "markdown",
   "metadata": {
    "id": "H9wADwK78DCz"
   },
   "source": [
    "# Proyek Analisis Data: Brazilian E-Commerce Public Dataset by Olist\n",
    "- **Nama:** Budiman Nurhadi\n",
    "- **Email:** almorpth@gmail.com\n",
    "- **ID Dicoding:** budiman_nurhadi_IQsj"
   ]
  },
  {
   "cell_type": "markdown",
   "metadata": {
    "id": "eE0raob58DC0"
   },
   "source": [
    "## Menentukan Pertanyaan Bisnis"
   ]
  },
  {
   "cell_type": "markdown",
   "metadata": {
    "id": "GmQeQ5YF8DC0"
   },
   "source": [
    "- Q1: Bagaimana hubungan antara rating produk dan kategori produk dalam hal jumlah ulasan dan rating rata-rata, dan apakah kategori produk tertentu memiliki rating lebih tinggi daripada yang lain?\n",
    "- Q2: Apa faktor-faktor yang paling berpengaruh terhadap total penjualan produk, berdasarkan harga, ulasan, dan kategori produk?"
   ]
  },
  {
   "cell_type": "code",
   "execution_count": 1,
   "metadata": {
    "id": "FVYwaObI8DC1"
   },
   "outputs": [],
   "source": [
    "import pandas as pd\n",
    "import numpy as np\n",
    "import seaborn as sns\n",
    "import matplotlib.pyplot as plt"
   ]
  },
  {
   "cell_type": "markdown",
   "metadata": {
    "id": "h_Sh51Xy8DC1"
   },
   "source": [
    "## Data Wrangling"
   ]
  },
  {
   "cell_type": "markdown",
   "metadata": {
    "id": "sXU2GBYu8DC1"
   },
   "source": [
    "### Gathering Data"
   ]
  },
  {
   "cell_type": "markdown",
   "metadata": {},
   "source": [
    "Pada analisa kali ini, saya menggunakan dataset **E-Commerce Brazil** yang dapat diakses melalui [Kaggle](https://www.kaggle.com/datasets/olistbr/brazilian-ecommerce/). Dataset ini berisi lebih dari 100.000 pesanan yang terjadi pada periode 2016 hingga 2018 di berbagai marketplace di Brasil."
   ]
  },
  {
   "cell_type": "code",
   "execution_count": 2,
   "metadata": {},
   "outputs": [
    {
     "data": {
      "text/html": [
       "<div>\n",
       "<style scoped>\n",
       "    .dataframe tbody tr th:only-of-type {\n",
       "        vertical-align: middle;\n",
       "    }\n",
       "\n",
       "    .dataframe tbody tr th {\n",
       "        vertical-align: top;\n",
       "    }\n",
       "\n",
       "    .dataframe thead th {\n",
       "        text-align: right;\n",
       "    }\n",
       "</style>\n",
       "<table border=\"1\" class=\"dataframe\">\n",
       "  <thead>\n",
       "    <tr style=\"text-align: right;\">\n",
       "      <th></th>\n",
       "      <th>product_id</th>\n",
       "      <th>product_category_name</th>\n",
       "      <th>product_name_lenght</th>\n",
       "      <th>product_description_lenght</th>\n",
       "      <th>product_photos_qty</th>\n",
       "      <th>product_weight_g</th>\n",
       "      <th>product_length_cm</th>\n",
       "      <th>product_height_cm</th>\n",
       "      <th>product_width_cm</th>\n",
       "    </tr>\n",
       "  </thead>\n",
       "  <tbody>\n",
       "    <tr>\n",
       "      <th>0</th>\n",
       "      <td>1e9e8ef04dbcff4541ed26657ea517e5</td>\n",
       "      <td>perfumery</td>\n",
       "      <td>40.0</td>\n",
       "      <td>287.0</td>\n",
       "      <td>1.0</td>\n",
       "      <td>225.0</td>\n",
       "      <td>16.0</td>\n",
       "      <td>10.0</td>\n",
       "      <td>14.0</td>\n",
       "    </tr>\n",
       "    <tr>\n",
       "      <th>1</th>\n",
       "      <td>3aa071139cb16b67ca9e5dea641aaa2f</td>\n",
       "      <td>art</td>\n",
       "      <td>44.0</td>\n",
       "      <td>276.0</td>\n",
       "      <td>1.0</td>\n",
       "      <td>1000.0</td>\n",
       "      <td>30.0</td>\n",
       "      <td>18.0</td>\n",
       "      <td>20.0</td>\n",
       "    </tr>\n",
       "    <tr>\n",
       "      <th>2</th>\n",
       "      <td>96bd76ec8810374ed1b65e291975717f</td>\n",
       "      <td>sports_leisure</td>\n",
       "      <td>46.0</td>\n",
       "      <td>250.0</td>\n",
       "      <td>1.0</td>\n",
       "      <td>154.0</td>\n",
       "      <td>18.0</td>\n",
       "      <td>9.0</td>\n",
       "      <td>15.0</td>\n",
       "    </tr>\n",
       "    <tr>\n",
       "      <th>3</th>\n",
       "      <td>cef67bcfe19066a932b7673e239eb23d</td>\n",
       "      <td>baby</td>\n",
       "      <td>27.0</td>\n",
       "      <td>261.0</td>\n",
       "      <td>1.0</td>\n",
       "      <td>371.0</td>\n",
       "      <td>26.0</td>\n",
       "      <td>4.0</td>\n",
       "      <td>26.0</td>\n",
       "    </tr>\n",
       "    <tr>\n",
       "      <th>4</th>\n",
       "      <td>9dc1a7de274444849c219cff195d0b71</td>\n",
       "      <td>housewares</td>\n",
       "      <td>37.0</td>\n",
       "      <td>402.0</td>\n",
       "      <td>4.0</td>\n",
       "      <td>625.0</td>\n",
       "      <td>20.0</td>\n",
       "      <td>17.0</td>\n",
       "      <td>13.0</td>\n",
       "    </tr>\n",
       "  </tbody>\n",
       "</table>\n",
       "</div>"
      ],
      "text/plain": [
       "                         product_id product_category_name  \\\n",
       "0  1e9e8ef04dbcff4541ed26657ea517e5             perfumery   \n",
       "1  3aa071139cb16b67ca9e5dea641aaa2f                   art   \n",
       "2  96bd76ec8810374ed1b65e291975717f        sports_leisure   \n",
       "3  cef67bcfe19066a932b7673e239eb23d                  baby   \n",
       "4  9dc1a7de274444849c219cff195d0b71            housewares   \n",
       "\n",
       "   product_name_lenght  product_description_lenght  product_photos_qty  \\\n",
       "0                 40.0                       287.0                 1.0   \n",
       "1                 44.0                       276.0                 1.0   \n",
       "2                 46.0                       250.0                 1.0   \n",
       "3                 27.0                       261.0                 1.0   \n",
       "4                 37.0                       402.0                 4.0   \n",
       "\n",
       "   product_weight_g  product_length_cm  product_height_cm  product_width_cm  \n",
       "0             225.0               16.0               10.0              14.0  \n",
       "1            1000.0               30.0               18.0              20.0  \n",
       "2             154.0               18.0                9.0              15.0  \n",
       "3             371.0               26.0                4.0              26.0  \n",
       "4             625.0               20.0               17.0              13.0  "
      ]
     },
     "execution_count": 2,
     "metadata": {},
     "output_type": "execute_result"
    }
   ],
   "source": [
    "product_category_name_translation = pd.read_csv(\"data/product_category_name_translation.csv\")\n",
    "products = pd.read_csv(\"data/olist_products_dataset.csv\")\n",
    "products_df = products.merge(\n",
    "    product_category_name_translation,\n",
    "    how='left',\n",
    "    left_on='product_category_name',\n",
    "    right_on='product_category_name'\n",
    ")\n",
    "\n",
    "products_df['product_category_name'] = products_df['product_category_name_english']\n",
    "products_df = products_df.drop(columns=['product_category_name_english'])\n",
    "products_df.head()"
   ]
  },
  {
   "cell_type": "markdown",
   "metadata": {},
   "source": [
    "Pada tahap ini, saya menggabungkan dataset produk dengan file terjemahan kategori produk untuk mengganti nama kategori produk yang semula dalam bahasa Portugis menjadi bahasa Inggris. Setelah itu, kolom terjemahan yang tidak diperlukan dihapus, sehingga dataset produk kini memiliki informasi kategori yang lebih mudah dipahami untuk analisis lebih lanjut.\n"
   ]
  },
  {
   "cell_type": "code",
   "execution_count": 3,
   "metadata": {
    "id": "zjCBk1BI8DC1"
   },
   "outputs": [
    {
     "data": {
      "text/html": [
       "<div>\n",
       "<style scoped>\n",
       "    .dataframe tbody tr th:only-of-type {\n",
       "        vertical-align: middle;\n",
       "    }\n",
       "\n",
       "    .dataframe tbody tr th {\n",
       "        vertical-align: top;\n",
       "    }\n",
       "\n",
       "    .dataframe thead th {\n",
       "        text-align: right;\n",
       "    }\n",
       "</style>\n",
       "<table border=\"1\" class=\"dataframe\">\n",
       "  <thead>\n",
       "    <tr style=\"text-align: right;\">\n",
       "      <th></th>\n",
       "      <th>review_id</th>\n",
       "      <th>order_id</th>\n",
       "      <th>review_score</th>\n",
       "      <th>review_comment_title</th>\n",
       "      <th>review_comment_message</th>\n",
       "      <th>review_creation_date</th>\n",
       "      <th>review_answer_timestamp</th>\n",
       "    </tr>\n",
       "  </thead>\n",
       "  <tbody>\n",
       "    <tr>\n",
       "      <th>0</th>\n",
       "      <td>7bc2406110b926393aa56f80a40eba40</td>\n",
       "      <td>73fc7af87114b39712e6da79b0a377eb</td>\n",
       "      <td>4</td>\n",
       "      <td>NaN</td>\n",
       "      <td>NaN</td>\n",
       "      <td>2018-01-18 00:00:00</td>\n",
       "      <td>2018-01-18 21:46:59</td>\n",
       "    </tr>\n",
       "    <tr>\n",
       "      <th>1</th>\n",
       "      <td>80e641a11e56f04c1ad469d5645fdfde</td>\n",
       "      <td>a548910a1c6147796b98fdf73dbeba33</td>\n",
       "      <td>5</td>\n",
       "      <td>NaN</td>\n",
       "      <td>NaN</td>\n",
       "      <td>2018-03-10 00:00:00</td>\n",
       "      <td>2018-03-11 03:05:13</td>\n",
       "    </tr>\n",
       "    <tr>\n",
       "      <th>2</th>\n",
       "      <td>228ce5500dc1d8e020d8d1322874b6f0</td>\n",
       "      <td>f9e4b658b201a9f2ecdecbb34bed034b</td>\n",
       "      <td>5</td>\n",
       "      <td>NaN</td>\n",
       "      <td>NaN</td>\n",
       "      <td>2018-02-17 00:00:00</td>\n",
       "      <td>2018-02-18 14:36:24</td>\n",
       "    </tr>\n",
       "    <tr>\n",
       "      <th>3</th>\n",
       "      <td>e64fb393e7b32834bb789ff8bb30750e</td>\n",
       "      <td>658677c97b385a9be170737859d3511b</td>\n",
       "      <td>5</td>\n",
       "      <td>NaN</td>\n",
       "      <td>Recebi bem antes do prazo estipulado.</td>\n",
       "      <td>2017-04-21 00:00:00</td>\n",
       "      <td>2017-04-21 22:02:06</td>\n",
       "    </tr>\n",
       "    <tr>\n",
       "      <th>4</th>\n",
       "      <td>f7c4243c7fe1938f181bec41a392bdeb</td>\n",
       "      <td>8e6bfb81e283fa7e4f11123a3fb894f1</td>\n",
       "      <td>5</td>\n",
       "      <td>NaN</td>\n",
       "      <td>Parabéns lojas lannister adorei comprar pela I...</td>\n",
       "      <td>2018-03-01 00:00:00</td>\n",
       "      <td>2018-03-02 10:26:53</td>\n",
       "    </tr>\n",
       "  </tbody>\n",
       "</table>\n",
       "</div>"
      ],
      "text/plain": [
       "                          review_id                          order_id  \\\n",
       "0  7bc2406110b926393aa56f80a40eba40  73fc7af87114b39712e6da79b0a377eb   \n",
       "1  80e641a11e56f04c1ad469d5645fdfde  a548910a1c6147796b98fdf73dbeba33   \n",
       "2  228ce5500dc1d8e020d8d1322874b6f0  f9e4b658b201a9f2ecdecbb34bed034b   \n",
       "3  e64fb393e7b32834bb789ff8bb30750e  658677c97b385a9be170737859d3511b   \n",
       "4  f7c4243c7fe1938f181bec41a392bdeb  8e6bfb81e283fa7e4f11123a3fb894f1   \n",
       "\n",
       "   review_score review_comment_title  \\\n",
       "0             4                  NaN   \n",
       "1             5                  NaN   \n",
       "2             5                  NaN   \n",
       "3             5                  NaN   \n",
       "4             5                  NaN   \n",
       "\n",
       "                              review_comment_message review_creation_date  \\\n",
       "0                                                NaN  2018-01-18 00:00:00   \n",
       "1                                                NaN  2018-03-10 00:00:00   \n",
       "2                                                NaN  2018-02-17 00:00:00   \n",
       "3              Recebi bem antes do prazo estipulado.  2017-04-21 00:00:00   \n",
       "4  Parabéns lojas lannister adorei comprar pela I...  2018-03-01 00:00:00   \n",
       "\n",
       "  review_answer_timestamp  \n",
       "0     2018-01-18 21:46:59  \n",
       "1     2018-03-11 03:05:13  \n",
       "2     2018-02-18 14:36:24  \n",
       "3     2017-04-21 22:02:06  \n",
       "4     2018-03-02 10:26:53  "
      ]
     },
     "execution_count": 3,
     "metadata": {},
     "output_type": "execute_result"
    }
   ],
   "source": [
    "order_reviews_df = pd.read_csv(\"data/olist_order_reviews_dataset.csv\")\n",
    "order_reviews_df.head()"
   ]
  },
  {
   "cell_type": "code",
   "execution_count": 4,
   "metadata": {},
   "outputs": [
    {
     "data": {
      "text/html": [
       "<div>\n",
       "<style scoped>\n",
       "    .dataframe tbody tr th:only-of-type {\n",
       "        vertical-align: middle;\n",
       "    }\n",
       "\n",
       "    .dataframe tbody tr th {\n",
       "        vertical-align: top;\n",
       "    }\n",
       "\n",
       "    .dataframe thead th {\n",
       "        text-align: right;\n",
       "    }\n",
       "</style>\n",
       "<table border=\"1\" class=\"dataframe\">\n",
       "  <thead>\n",
       "    <tr style=\"text-align: right;\">\n",
       "      <th></th>\n",
       "      <th>order_id</th>\n",
       "      <th>order_item_id</th>\n",
       "      <th>product_id</th>\n",
       "      <th>seller_id</th>\n",
       "      <th>shipping_limit_date</th>\n",
       "      <th>price</th>\n",
       "      <th>freight_value</th>\n",
       "    </tr>\n",
       "  </thead>\n",
       "  <tbody>\n",
       "    <tr>\n",
       "      <th>0</th>\n",
       "      <td>00010242fe8c5a6d1ba2dd792cb16214</td>\n",
       "      <td>1</td>\n",
       "      <td>4244733e06e7ecb4970a6e2683c13e61</td>\n",
       "      <td>48436dade18ac8b2bce089ec2a041202</td>\n",
       "      <td>2017-09-19 09:45:35</td>\n",
       "      <td>58.90</td>\n",
       "      <td>13.29</td>\n",
       "    </tr>\n",
       "    <tr>\n",
       "      <th>1</th>\n",
       "      <td>00018f77f2f0320c557190d7a144bdd3</td>\n",
       "      <td>1</td>\n",
       "      <td>e5f2d52b802189ee658865ca93d83a8f</td>\n",
       "      <td>dd7ddc04e1b6c2c614352b383efe2d36</td>\n",
       "      <td>2017-05-03 11:05:13</td>\n",
       "      <td>239.90</td>\n",
       "      <td>19.93</td>\n",
       "    </tr>\n",
       "    <tr>\n",
       "      <th>2</th>\n",
       "      <td>000229ec398224ef6ca0657da4fc703e</td>\n",
       "      <td>1</td>\n",
       "      <td>c777355d18b72b67abbeef9df44fd0fd</td>\n",
       "      <td>5b51032eddd242adc84c38acab88f23d</td>\n",
       "      <td>2018-01-18 14:48:30</td>\n",
       "      <td>199.00</td>\n",
       "      <td>17.87</td>\n",
       "    </tr>\n",
       "    <tr>\n",
       "      <th>3</th>\n",
       "      <td>00024acbcdf0a6daa1e931b038114c75</td>\n",
       "      <td>1</td>\n",
       "      <td>7634da152a4610f1595efa32f14722fc</td>\n",
       "      <td>9d7a1d34a5052409006425275ba1c2b4</td>\n",
       "      <td>2018-08-15 10:10:18</td>\n",
       "      <td>12.99</td>\n",
       "      <td>12.79</td>\n",
       "    </tr>\n",
       "    <tr>\n",
       "      <th>4</th>\n",
       "      <td>00042b26cf59d7ce69dfabb4e55b4fd9</td>\n",
       "      <td>1</td>\n",
       "      <td>ac6c3623068f30de03045865e4e10089</td>\n",
       "      <td>df560393f3a51e74553ab94004ba5c87</td>\n",
       "      <td>2017-02-13 13:57:51</td>\n",
       "      <td>199.90</td>\n",
       "      <td>18.14</td>\n",
       "    </tr>\n",
       "  </tbody>\n",
       "</table>\n",
       "</div>"
      ],
      "text/plain": [
       "                           order_id  order_item_id  \\\n",
       "0  00010242fe8c5a6d1ba2dd792cb16214              1   \n",
       "1  00018f77f2f0320c557190d7a144bdd3              1   \n",
       "2  000229ec398224ef6ca0657da4fc703e              1   \n",
       "3  00024acbcdf0a6daa1e931b038114c75              1   \n",
       "4  00042b26cf59d7ce69dfabb4e55b4fd9              1   \n",
       "\n",
       "                         product_id                         seller_id  \\\n",
       "0  4244733e06e7ecb4970a6e2683c13e61  48436dade18ac8b2bce089ec2a041202   \n",
       "1  e5f2d52b802189ee658865ca93d83a8f  dd7ddc04e1b6c2c614352b383efe2d36   \n",
       "2  c777355d18b72b67abbeef9df44fd0fd  5b51032eddd242adc84c38acab88f23d   \n",
       "3  7634da152a4610f1595efa32f14722fc  9d7a1d34a5052409006425275ba1c2b4   \n",
       "4  ac6c3623068f30de03045865e4e10089  df560393f3a51e74553ab94004ba5c87   \n",
       "\n",
       "   shipping_limit_date   price  freight_value  \n",
       "0  2017-09-19 09:45:35   58.90          13.29  \n",
       "1  2017-05-03 11:05:13  239.90          19.93  \n",
       "2  2018-01-18 14:48:30  199.00          17.87  \n",
       "3  2018-08-15 10:10:18   12.99          12.79  \n",
       "4  2017-02-13 13:57:51  199.90          18.14  "
      ]
     },
     "execution_count": 4,
     "metadata": {},
     "output_type": "execute_result"
    }
   ],
   "source": [
    "order_items_df = pd.read_csv(\"data/olist_order_items_dataset.csv\")\n",
    "order_items_df.head()"
   ]
  },
  {
   "cell_type": "markdown",
   "metadata": {
    "id": "FHSiqaZp8DC1"
   },
   "source": [
    "### Assessing Data"
   ]
  },
  {
   "cell_type": "markdown",
   "metadata": {},
   "source": [
    "### Dokumentasi Proses Assessing Data\n",
    "\n",
    "Pada tahap ini, saya melakukan pemeriksaan kualitas data untuk memastikan data siap digunakan dalam analisis. Berikut langkah-langkah yang dilakukan:\n",
    "\n",
    "#### 1. **Memahami Struktur Dataset**\n",
    "   - Dataset terdiri dari beberapa tabel, yang utama adalah produk dan penjualan, yang berisi informasi tentang kategori, ulasan, penjualan, harga, dan total penjualan.\n",
    "\n",
    "#### 2. **Pemeriksaan Data yang Hilang**\n",
    "   - Memeriksa apakah ada data yang hilang di kolom penting seperti skor ulasan, jumlah penjualan, dan kategori produk.\n",
    "   - Menghapus atau mengisi data yang hilang sesuai kebutuhan.\n",
    "\n",
    "#### 3. **Memeriksa Duplikasi**\n",
    "   - Mengecek dan menghapus baris duplikat untuk memastikan data tidak ganda.\n",
    "\n",
    "#### 4. **Validasi Tipe Data**\n",
    "   - Memastikan kolom dengan data numerik seperti skor ulasan dan jumlah penjualan memiliki tipe data yang tepat.\n",
    "\n",
    "#### 5. **Statistik Deskriptif**\n",
    "   - Mengecek distribusi nilai dan mencari nilai ekstrem (outlier) yang mungkin mempengaruhi analisis.\n",
    "\n",
    "#### 7. **Evaluasi Kelayakan Data**\n",
    "   - Memastikan hanya data yang relevan yang digunakan untuk analisis lebih lanjut, dan menghapus yang tidak diperlukan.\n",
    "\n",
    "Langkah-langkah ini membantu memastikan data yang digunakan akurat dan siap untuk analisis lebih lanjut.\n"
   ]
  },
  {
   "cell_type": "markdown",
   "metadata": {},
   "source": [
    "#### products"
   ]
  },
  {
   "cell_type": "code",
   "execution_count": 5,
   "metadata": {
    "scrolled": false
   },
   "outputs": [
    {
     "name": "stdout",
     "output_type": "stream",
     "text": [
      "<class 'pandas.core.frame.DataFrame'>\n",
      "Int64Index: 32951 entries, 0 to 32950\n",
      "Data columns (total 9 columns):\n",
      " #   Column                      Non-Null Count  Dtype  \n",
      "---  ------                      --------------  -----  \n",
      " 0   product_id                  32951 non-null  object \n",
      " 1   product_category_name       32328 non-null  object \n",
      " 2   product_name_lenght         32341 non-null  float64\n",
      " 3   product_description_lenght  32341 non-null  float64\n",
      " 4   product_photos_qty          32341 non-null  float64\n",
      " 5   product_weight_g            32949 non-null  float64\n",
      " 6   product_length_cm           32949 non-null  float64\n",
      " 7   product_height_cm           32949 non-null  float64\n",
      " 8   product_width_cm            32949 non-null  float64\n",
      "dtypes: float64(7), object(2)\n",
      "memory usage: 2.5+ MB\n"
     ]
    }
   ],
   "source": [
    "products_df.info()"
   ]
  },
  {
   "cell_type": "code",
   "execution_count": 6,
   "metadata": {},
   "outputs": [
    {
     "data": {
      "text/plain": [
       "product_id                      0\n",
       "product_category_name         623\n",
       "product_name_lenght           610\n",
       "product_description_lenght    610\n",
       "product_photos_qty            610\n",
       "product_weight_g                2\n",
       "product_length_cm               2\n",
       "product_height_cm               2\n",
       "product_width_cm                2\n",
       "dtype: int64"
      ]
     },
     "execution_count": 6,
     "metadata": {},
     "output_type": "execute_result"
    }
   ],
   "source": [
    "products_df.isna().sum()"
   ]
  },
  {
   "cell_type": "code",
   "execution_count": 7,
   "metadata": {},
   "outputs": [
    {
     "name": "stdout",
     "output_type": "stream",
     "text": [
      "Jumlah duplikasi:  0\n"
     ]
    }
   ],
   "source": [
    "print(\"Jumlah duplikasi: \", products_df.duplicated().sum())"
   ]
  },
  {
   "cell_type": "code",
   "execution_count": 8,
   "metadata": {
    "scrolled": true
   },
   "outputs": [
    {
     "data": {
      "text/html": [
       "<div>\n",
       "<style scoped>\n",
       "    .dataframe tbody tr th:only-of-type {\n",
       "        vertical-align: middle;\n",
       "    }\n",
       "\n",
       "    .dataframe tbody tr th {\n",
       "        vertical-align: top;\n",
       "    }\n",
       "\n",
       "    .dataframe thead th {\n",
       "        text-align: right;\n",
       "    }\n",
       "</style>\n",
       "<table border=\"1\" class=\"dataframe\">\n",
       "  <thead>\n",
       "    <tr style=\"text-align: right;\">\n",
       "      <th></th>\n",
       "      <th>product_name_lenght</th>\n",
       "      <th>product_description_lenght</th>\n",
       "      <th>product_photos_qty</th>\n",
       "      <th>product_weight_g</th>\n",
       "      <th>product_length_cm</th>\n",
       "      <th>product_height_cm</th>\n",
       "      <th>product_width_cm</th>\n",
       "    </tr>\n",
       "  </thead>\n",
       "  <tbody>\n",
       "    <tr>\n",
       "      <th>count</th>\n",
       "      <td>32341.000000</td>\n",
       "      <td>32341.000000</td>\n",
       "      <td>32341.000000</td>\n",
       "      <td>32949.000000</td>\n",
       "      <td>32949.000000</td>\n",
       "      <td>32949.000000</td>\n",
       "      <td>32949.000000</td>\n",
       "    </tr>\n",
       "    <tr>\n",
       "      <th>mean</th>\n",
       "      <td>48.476949</td>\n",
       "      <td>771.495285</td>\n",
       "      <td>2.188986</td>\n",
       "      <td>2276.472488</td>\n",
       "      <td>30.815078</td>\n",
       "      <td>16.937661</td>\n",
       "      <td>23.196728</td>\n",
       "    </tr>\n",
       "    <tr>\n",
       "      <th>std</th>\n",
       "      <td>10.245741</td>\n",
       "      <td>635.115225</td>\n",
       "      <td>1.736766</td>\n",
       "      <td>4282.038731</td>\n",
       "      <td>16.914458</td>\n",
       "      <td>13.637554</td>\n",
       "      <td>12.079047</td>\n",
       "    </tr>\n",
       "    <tr>\n",
       "      <th>min</th>\n",
       "      <td>5.000000</td>\n",
       "      <td>4.000000</td>\n",
       "      <td>1.000000</td>\n",
       "      <td>0.000000</td>\n",
       "      <td>7.000000</td>\n",
       "      <td>2.000000</td>\n",
       "      <td>6.000000</td>\n",
       "    </tr>\n",
       "    <tr>\n",
       "      <th>25%</th>\n",
       "      <td>42.000000</td>\n",
       "      <td>339.000000</td>\n",
       "      <td>1.000000</td>\n",
       "      <td>300.000000</td>\n",
       "      <td>18.000000</td>\n",
       "      <td>8.000000</td>\n",
       "      <td>15.000000</td>\n",
       "    </tr>\n",
       "    <tr>\n",
       "      <th>50%</th>\n",
       "      <td>51.000000</td>\n",
       "      <td>595.000000</td>\n",
       "      <td>1.000000</td>\n",
       "      <td>700.000000</td>\n",
       "      <td>25.000000</td>\n",
       "      <td>13.000000</td>\n",
       "      <td>20.000000</td>\n",
       "    </tr>\n",
       "    <tr>\n",
       "      <th>75%</th>\n",
       "      <td>57.000000</td>\n",
       "      <td>972.000000</td>\n",
       "      <td>3.000000</td>\n",
       "      <td>1900.000000</td>\n",
       "      <td>38.000000</td>\n",
       "      <td>21.000000</td>\n",
       "      <td>30.000000</td>\n",
       "    </tr>\n",
       "    <tr>\n",
       "      <th>max</th>\n",
       "      <td>76.000000</td>\n",
       "      <td>3992.000000</td>\n",
       "      <td>20.000000</td>\n",
       "      <td>40425.000000</td>\n",
       "      <td>105.000000</td>\n",
       "      <td>105.000000</td>\n",
       "      <td>118.000000</td>\n",
       "    </tr>\n",
       "  </tbody>\n",
       "</table>\n",
       "</div>"
      ],
      "text/plain": [
       "       product_name_lenght  product_description_lenght  product_photos_qty  \\\n",
       "count         32341.000000                32341.000000        32341.000000   \n",
       "mean             48.476949                  771.495285            2.188986   \n",
       "std              10.245741                  635.115225            1.736766   \n",
       "min               5.000000                    4.000000            1.000000   \n",
       "25%              42.000000                  339.000000            1.000000   \n",
       "50%              51.000000                  595.000000            1.000000   \n",
       "75%              57.000000                  972.000000            3.000000   \n",
       "max              76.000000                 3992.000000           20.000000   \n",
       "\n",
       "       product_weight_g  product_length_cm  product_height_cm  \\\n",
       "count      32949.000000       32949.000000       32949.000000   \n",
       "mean        2276.472488          30.815078          16.937661   \n",
       "std         4282.038731          16.914458          13.637554   \n",
       "min            0.000000           7.000000           2.000000   \n",
       "25%          300.000000          18.000000           8.000000   \n",
       "50%          700.000000          25.000000          13.000000   \n",
       "75%         1900.000000          38.000000          21.000000   \n",
       "max        40425.000000         105.000000         105.000000   \n",
       "\n",
       "       product_width_cm  \n",
       "count      32949.000000  \n",
       "mean          23.196728  \n",
       "std           12.079047  \n",
       "min            6.000000  \n",
       "25%           15.000000  \n",
       "50%           20.000000  \n",
       "75%           30.000000  \n",
       "max          118.000000  "
      ]
     },
     "execution_count": 8,
     "metadata": {},
     "output_type": "execute_result"
    }
   ],
   "source": [
    "products_df.describe()"
   ]
  },
  {
   "cell_type": "markdown",
   "metadata": {},
   "source": [
    "#### order_reviews"
   ]
  },
  {
   "cell_type": "code",
   "execution_count": 9,
   "metadata": {
    "id": "ax-3tEjc9Cj1",
    "scrolled": true
   },
   "outputs": [
    {
     "name": "stdout",
     "output_type": "stream",
     "text": [
      "<class 'pandas.core.frame.DataFrame'>\n",
      "RangeIndex: 99224 entries, 0 to 99223\n",
      "Data columns (total 7 columns):\n",
      " #   Column                   Non-Null Count  Dtype \n",
      "---  ------                   --------------  ----- \n",
      " 0   review_id                99224 non-null  object\n",
      " 1   order_id                 99224 non-null  object\n",
      " 2   review_score             99224 non-null  int64 \n",
      " 3   review_comment_title     11568 non-null  object\n",
      " 4   review_comment_message   40977 non-null  object\n",
      " 5   review_creation_date     99224 non-null  object\n",
      " 6   review_answer_timestamp  99224 non-null  object\n",
      "dtypes: int64(1), object(6)\n",
      "memory usage: 5.3+ MB\n"
     ]
    }
   ],
   "source": [
    "order_reviews_df.info()"
   ]
  },
  {
   "cell_type": "code",
   "execution_count": 10,
   "metadata": {},
   "outputs": [
    {
     "data": {
      "text/plain": [
       "review_id                      0\n",
       "order_id                       0\n",
       "review_score                   0\n",
       "review_comment_title       87656\n",
       "review_comment_message     58247\n",
       "review_creation_date           0\n",
       "review_answer_timestamp        0\n",
       "dtype: int64"
      ]
     },
     "execution_count": 10,
     "metadata": {},
     "output_type": "execute_result"
    }
   ],
   "source": [
    "order_reviews_df.isna().sum()"
   ]
  },
  {
   "cell_type": "code",
   "execution_count": 11,
   "metadata": {},
   "outputs": [
    {
     "name": "stdout",
     "output_type": "stream",
     "text": [
      "Jumlah duplikasi:  0\n"
     ]
    }
   ],
   "source": [
    "print(\"Jumlah duplikasi: \", order_reviews_df.duplicated().sum())"
   ]
  },
  {
   "cell_type": "markdown",
   "metadata": {},
   "source": [
    "#### order_items"
   ]
  },
  {
   "cell_type": "code",
   "execution_count": 12,
   "metadata": {},
   "outputs": [
    {
     "name": "stdout",
     "output_type": "stream",
     "text": [
      "<class 'pandas.core.frame.DataFrame'>\n",
      "RangeIndex: 112650 entries, 0 to 112649\n",
      "Data columns (total 7 columns):\n",
      " #   Column               Non-Null Count   Dtype  \n",
      "---  ------               --------------   -----  \n",
      " 0   order_id             112650 non-null  object \n",
      " 1   order_item_id        112650 non-null  int64  \n",
      " 2   product_id           112650 non-null  object \n",
      " 3   seller_id            112650 non-null  object \n",
      " 4   shipping_limit_date  112650 non-null  object \n",
      " 5   price                112650 non-null  float64\n",
      " 6   freight_value        112650 non-null  float64\n",
      "dtypes: float64(2), int64(1), object(4)\n",
      "memory usage: 6.0+ MB\n"
     ]
    }
   ],
   "source": [
    "order_items_df.info()"
   ]
  },
  {
   "cell_type": "code",
   "execution_count": 13,
   "metadata": {},
   "outputs": [
    {
     "data": {
      "text/plain": [
       "order_id               0\n",
       "order_item_id          0\n",
       "product_id             0\n",
       "seller_id              0\n",
       "shipping_limit_date    0\n",
       "price                  0\n",
       "freight_value          0\n",
       "dtype: int64"
      ]
     },
     "execution_count": 13,
     "metadata": {},
     "output_type": "execute_result"
    }
   ],
   "source": [
    "order_items_df.isna().sum()"
   ]
  },
  {
   "cell_type": "code",
   "execution_count": 14,
   "metadata": {},
   "outputs": [
    {
     "name": "stdout",
     "output_type": "stream",
     "text": [
      "Jumlah duplikasi:  0\n"
     ]
    }
   ],
   "source": [
    "print(\"Jumlah duplikasi: \", order_items_df.duplicated().sum())"
   ]
  },
  {
   "cell_type": "markdown",
   "metadata": {
    "id": "EhN5R4hr8DC1"
   },
   "source": [
    "### Cleaning Data"
   ]
  },
  {
   "cell_type": "markdown",
   "metadata": {},
   "source": [
    "Pada tahap ini, saya melakukan pembersihan data untuk memastikan data yang digunakan konsisten dan siap untuk dianalisis lebih lanjut. Berikut langkah-langkah pembersihan yang dilakukan:\n",
    "\n",
    "#### 1. **Membersihkan Data pada Tabel Produk**\n",
    "   - **Kategori Produk Kosong**: Menghapus baris dengan kategori produk kosong atau mengisi dengan kategori lain yang relevan jika memungkinkan.\n",
    "   - **Panjang Nama dan Deskripsi Kosong**: Mengisi nilai kosong dengan panjang yang sesuai atau menghapus produk yang tidak lengkap.\n",
    "   - **Foto Kosong**: Menghapus produk yang tidak memiliki foto atau mengisi dengan placeholder jika diperlukan.\n",
    "\n",
    "#### 2. **Membersihkan Data pada Tabel Order-Item**\n",
    "   - **Shipping Limit Date yang Salah Tipe Data**: Mengonversi kolom `shipping_limit_date` ke tipe data `datetime` yang sesuai.\n",
    "   \n",
    "#### 3. **Memperbaiki Tipe Data pada Tabel Order-Reviews**\n",
    "   - **Creation Date dan Timestamp**: Mengubah kolom `creation_date` dan `timestamp` menjadi tipe data yang sesuai dengan format tanggal dan waktu (`datetime`).\n",
    "\n",
    "#### 4. **Menangani Data Kosong pada Tabel Review**\n",
    "   - **Review Comment Title dan Message Kosong**: Menghapus atau mengganti komentar kosong dengan nilai default, tergantung pada kebutuhan analisis.\n",
    "\n",
    "Langkah-langkah ini membantu memastikan data yang digunakan lebih bersih, konsisten, dan siap untuk proses analisis selanjutnya."
   ]
  },
  {
   "cell_type": "markdown",
   "metadata": {},
   "source": [
    "#### products"
   ]
  },
  {
   "cell_type": "code",
   "execution_count": 15,
   "metadata": {
    "id": "jVnYpprE9Evz"
   },
   "outputs": [],
   "source": [
    "products_df.dropna(subset=['product_category_name'], inplace=True)"
   ]
  },
  {
   "cell_type": "code",
   "execution_count": 16,
   "metadata": {},
   "outputs": [],
   "source": [
    "products_df['product_weight_g'].fillna(products_df['product_weight_g'].mean(), inplace=True)\n",
    "products_df['product_length_cm'].fillna(products_df['product_length_cm'].mean(), inplace=True)\n",
    "products_df['product_height_cm'].fillna(products_df['product_height_cm'].mean(), inplace=True)\n",
    "products_df['product_width_cm'].fillna(products_df['product_width_cm'].mean(), inplace=True)"
   ]
  },
  {
   "cell_type": "code",
   "execution_count": 17,
   "metadata": {},
   "outputs": [
    {
     "data": {
      "text/plain": [
       "product_id                    0\n",
       "product_category_name         0\n",
       "product_name_lenght           0\n",
       "product_description_lenght    0\n",
       "product_photos_qty            0\n",
       "product_weight_g              0\n",
       "product_length_cm             0\n",
       "product_height_cm             0\n",
       "product_width_cm              0\n",
       "dtype: int64"
      ]
     },
     "execution_count": 17,
     "metadata": {},
     "output_type": "execute_result"
    }
   ],
   "source": [
    "products_df.isna().sum()"
   ]
  },
  {
   "cell_type": "markdown",
   "metadata": {},
   "source": [
    "#### order_reviews"
   ]
  },
  {
   "cell_type": "code",
   "execution_count": 18,
   "metadata": {},
   "outputs": [],
   "source": [
    "datetime_columns = [\"review_creation_date\", \"review_answer_timestamp\"]\n",
    " \n",
    "for column in datetime_columns:\n",
    "  order_reviews_df[column] = pd.to_datetime(order_reviews_df[column])"
   ]
  },
  {
   "cell_type": "code",
   "execution_count": 19,
   "metadata": {},
   "outputs": [
    {
     "name": "stdout",
     "output_type": "stream",
     "text": [
      "<class 'pandas.core.frame.DataFrame'>\n",
      "RangeIndex: 99224 entries, 0 to 99223\n",
      "Data columns (total 7 columns):\n",
      " #   Column                   Non-Null Count  Dtype         \n",
      "---  ------                   --------------  -----         \n",
      " 0   review_id                99224 non-null  object        \n",
      " 1   order_id                 99224 non-null  object        \n",
      " 2   review_score             99224 non-null  int64         \n",
      " 3   review_comment_title     11568 non-null  object        \n",
      " 4   review_comment_message   40977 non-null  object        \n",
      " 5   review_creation_date     99224 non-null  datetime64[ns]\n",
      " 6   review_answer_timestamp  99224 non-null  datetime64[ns]\n",
      "dtypes: datetime64[ns](2), int64(1), object(4)\n",
      "memory usage: 5.3+ MB\n"
     ]
    }
   ],
   "source": [
    "order_reviews_df.info()"
   ]
  },
  {
   "cell_type": "code",
   "execution_count": 20,
   "metadata": {},
   "outputs": [],
   "source": [
    "order_reviews_df['review_comment_title'].fillna(\"No Title\", inplace=True)\n",
    "order_reviews_df['review_comment_message'].fillna(\"No Comment\", inplace=True)"
   ]
  },
  {
   "cell_type": "code",
   "execution_count": 21,
   "metadata": {},
   "outputs": [
    {
     "data": {
      "text/plain": [
       "review_id                  0\n",
       "order_id                   0\n",
       "review_score               0\n",
       "review_comment_title       0\n",
       "review_comment_message     0\n",
       "review_creation_date       0\n",
       "review_answer_timestamp    0\n",
       "dtype: int64"
      ]
     },
     "execution_count": 21,
     "metadata": {},
     "output_type": "execute_result"
    }
   ],
   "source": [
    "order_reviews_df.isna().sum()"
   ]
  },
  {
   "cell_type": "markdown",
   "metadata": {},
   "source": [
    "#### order_items"
   ]
  },
  {
   "cell_type": "code",
   "execution_count": 22,
   "metadata": {},
   "outputs": [],
   "source": [
    "order_items_df['shipping_limit_date'] = pd.to_datetime(order_items_df['shipping_limit_date'])"
   ]
  },
  {
   "cell_type": "code",
   "execution_count": 23,
   "metadata": {},
   "outputs": [
    {
     "name": "stdout",
     "output_type": "stream",
     "text": [
      "<class 'pandas.core.frame.DataFrame'>\n",
      "RangeIndex: 112650 entries, 0 to 112649\n",
      "Data columns (total 7 columns):\n",
      " #   Column               Non-Null Count   Dtype         \n",
      "---  ------               --------------   -----         \n",
      " 0   order_id             112650 non-null  object        \n",
      " 1   order_item_id        112650 non-null  int64         \n",
      " 2   product_id           112650 non-null  object        \n",
      " 3   seller_id            112650 non-null  object        \n",
      " 4   shipping_limit_date  112650 non-null  datetime64[ns]\n",
      " 5   price                112650 non-null  float64       \n",
      " 6   freight_value        112650 non-null  float64       \n",
      "dtypes: datetime64[ns](1), float64(2), int64(1), object(3)\n",
      "memory usage: 6.0+ MB\n"
     ]
    }
   ],
   "source": [
    "order_items_df.info()"
   ]
  },
  {
   "cell_type": "markdown",
   "metadata": {
    "id": "gp-Y6wU38DC1"
   },
   "source": [
    "## Exploratory Data Analysis (EDA)"
   ]
  },
  {
   "cell_type": "markdown",
   "metadata": {
    "id": "MW7WF2kr8DC1"
   },
   "source": [
    "Pada tahap EDA (Exploratory Data Analysis), saya mulai dengan memeriksa distribusi data dan hubungan antar fitur yang relevan. Saya mengeksplorasi kolom-kolom seperti harga produk, jumlah ulasan, rating, dan jumlah penjualan untuk memahami pola yang ada. Visualisasi digunakan untuk menilai hubungan antara kategori produk dan rating, serta melihat apakah kategori tertentu memiliki rating yang lebih tinggi dibandingkan yang lain. Selain itu, saya juga melihat distribusi data berdasarkan kategori produk dan mengidentifikasi produk dengan ulasan dan penjualan tertinggi.\n"
   ]
  },
  {
   "cell_type": "markdown",
   "metadata": {},
   "source": [
    "#### Merging Product Information with Order Items"
   ]
  },
  {
   "cell_type": "markdown",
   "metadata": {},
   "source": [
    "Aktivitas ini menggabungkan informasi produk, seperti nama kategori produk, dengan data item pesanan. Data ini digunakan untuk menganalisis hubungan antara produk dan pesanan yang terkait."
   ]
  },
  {
   "cell_type": "code",
   "execution_count": 24,
   "metadata": {
    "id": "e9CQCZjk8DC2",
    "scrolled": false
   },
   "outputs": [
    {
     "data": {
      "text/html": [
       "<div>\n",
       "<style scoped>\n",
       "    .dataframe tbody tr th:only-of-type {\n",
       "        vertical-align: middle;\n",
       "    }\n",
       "\n",
       "    .dataframe tbody tr th {\n",
       "        vertical-align: top;\n",
       "    }\n",
       "\n",
       "    .dataframe thead th {\n",
       "        text-align: right;\n",
       "    }\n",
       "</style>\n",
       "<table border=\"1\" class=\"dataframe\">\n",
       "  <thead>\n",
       "    <tr style=\"text-align: right;\">\n",
       "      <th></th>\n",
       "      <th>product_id</th>\n",
       "      <th>product_category_name</th>\n",
       "      <th>order_id</th>\n",
       "      <th>order_item_id</th>\n",
       "      <th>seller_id</th>\n",
       "      <th>shipping_limit_date</th>\n",
       "      <th>price</th>\n",
       "      <th>freight_value</th>\n",
       "    </tr>\n",
       "  </thead>\n",
       "  <tbody>\n",
       "    <tr>\n",
       "      <th>0</th>\n",
       "      <td>1e9e8ef04dbcff4541ed26657ea517e5</td>\n",
       "      <td>perfumery</td>\n",
       "      <td>e17e4f88e31525f7deef66779844ddce</td>\n",
       "      <td>1</td>\n",
       "      <td>5670f4db5b62c43d542e1b2d56b0cf7c</td>\n",
       "      <td>2018-04-30 17:33:54</td>\n",
       "      <td>10.91</td>\n",
       "      <td>7.39</td>\n",
       "    </tr>\n",
       "    <tr>\n",
       "      <th>1</th>\n",
       "      <td>3aa071139cb16b67ca9e5dea641aaa2f</td>\n",
       "      <td>art</td>\n",
       "      <td>5236307716393b7114b53ee991f36956</td>\n",
       "      <td>1</td>\n",
       "      <td>b561927807645834b59ef0d16ba55a24</td>\n",
       "      <td>2018-02-06 19:11:15</td>\n",
       "      <td>248.00</td>\n",
       "      <td>17.99</td>\n",
       "    </tr>\n",
       "    <tr>\n",
       "      <th>2</th>\n",
       "      <td>96bd76ec8810374ed1b65e291975717f</td>\n",
       "      <td>sports_leisure</td>\n",
       "      <td>01f66e58769f84129811d43eefd187fb</td>\n",
       "      <td>1</td>\n",
       "      <td>7b07b3c7487f0ea825fc6df75abd658b</td>\n",
       "      <td>2018-07-11 21:30:20</td>\n",
       "      <td>79.80</td>\n",
       "      <td>7.82</td>\n",
       "    </tr>\n",
       "    <tr>\n",
       "      <th>3</th>\n",
       "      <td>cef67bcfe19066a932b7673e239eb23d</td>\n",
       "      <td>baby</td>\n",
       "      <td>143d00a4f2dde4e0364ee1821577adb3</td>\n",
       "      <td>1</td>\n",
       "      <td>c510bc1718f0f2961eaa42a23330681a</td>\n",
       "      <td>2018-08-07 09:10:13</td>\n",
       "      <td>112.30</td>\n",
       "      <td>9.54</td>\n",
       "    </tr>\n",
       "    <tr>\n",
       "      <th>4</th>\n",
       "      <td>9dc1a7de274444849c219cff195d0b71</td>\n",
       "      <td>housewares</td>\n",
       "      <td>86cafb8794cb99a9b1b77fc8e48fbbbb</td>\n",
       "      <td>1</td>\n",
       "      <td>0be8ff43f22e456b4e0371b2245e4d01</td>\n",
       "      <td>2018-04-17 01:30:23</td>\n",
       "      <td>37.90</td>\n",
       "      <td>8.29</td>\n",
       "    </tr>\n",
       "  </tbody>\n",
       "</table>\n",
       "</div>"
      ],
      "text/plain": [
       "                         product_id product_category_name  \\\n",
       "0  1e9e8ef04dbcff4541ed26657ea517e5             perfumery   \n",
       "1  3aa071139cb16b67ca9e5dea641aaa2f                   art   \n",
       "2  96bd76ec8810374ed1b65e291975717f        sports_leisure   \n",
       "3  cef67bcfe19066a932b7673e239eb23d                  baby   \n",
       "4  9dc1a7de274444849c219cff195d0b71            housewares   \n",
       "\n",
       "                           order_id  order_item_id  \\\n",
       "0  e17e4f88e31525f7deef66779844ddce              1   \n",
       "1  5236307716393b7114b53ee991f36956              1   \n",
       "2  01f66e58769f84129811d43eefd187fb              1   \n",
       "3  143d00a4f2dde4e0364ee1821577adb3              1   \n",
       "4  86cafb8794cb99a9b1b77fc8e48fbbbb              1   \n",
       "\n",
       "                          seller_id shipping_limit_date   price  freight_value  \n",
       "0  5670f4db5b62c43d542e1b2d56b0cf7c 2018-04-30 17:33:54   10.91           7.39  \n",
       "1  b561927807645834b59ef0d16ba55a24 2018-02-06 19:11:15  248.00          17.99  \n",
       "2  7b07b3c7487f0ea825fc6df75abd658b 2018-07-11 21:30:20   79.80           7.82  \n",
       "3  c510bc1718f0f2961eaa42a23330681a 2018-08-07 09:10:13  112.30           9.54  \n",
       "4  0be8ff43f22e456b4e0371b2245e4d01 2018-04-17 01:30:23   37.90           8.29  "
      ]
     },
     "execution_count": 24,
     "metadata": {},
     "output_type": "execute_result"
    }
   ],
   "source": [
    "product_orders_df = pd.merge(\n",
    "    left=products_df[['product_id', 'product_category_name']],\n",
    "    right=order_items_df,\n",
    "    how=\"left\",\n",
    "    left_on=\"product_id\",\n",
    "    right_on=\"product_id\"\n",
    ")\n",
    "\n",
    "product_orders_df.head()"
   ]
  },
  {
   "cell_type": "markdown",
   "metadata": {},
   "source": [
    "#### Calculating Total Sales and Sold Count by Category"
   ]
  },
  {
   "cell_type": "markdown",
   "metadata": {},
   "source": [
    "Aktivitas ini menghitung total penjualan dan jumlah unit yang terjual per kategori produk. Data diambil dari dataframe `product_orders_df` yang berisi informasi mengenai produk yang terjual. Total penjualan dihitung dengan mengalikan jumlah unit yang terjual dengan harga produk. Setelah itu, data diurutkan berdasarkan jumlah unit yang terjual secara menurun untuk menunjukkan kategori dengan penjualan tertinggi."
   ]
  },
  {
   "cell_type": "code",
   "execution_count": 25,
   "metadata": {},
   "outputs": [
    {
     "name": "stdout",
     "output_type": "stream",
     "text": [
      "        product_category_name  sold_count  item_price  total_sales\n",
      "7              bed_bath_table       11115       71.99    800168.85\n",
      "43              health_beauty        9670       29.90    289133.00\n",
      "65             sports_leisure        8641       79.80    689551.80\n",
      "39            furniture_decor        8334        9.99     83256.66\n",
      "15      computers_accessories        7827       69.90    547107.30\n",
      "..                        ...         ...         ...          ...\n",
      "3       arts_and_craftmanship          24      238.00      5712.00\n",
      "52                 la_cuisine          14      174.00      2436.00\n",
      "11          cds_dvds_musicals          14       65.00       910.00\n",
      "29  fashion_childrens_clothes           8       89.99       719.92\n",
      "61      security_and_services           2      100.00       200.00\n",
      "\n",
      "[71 rows x 4 columns]\n"
     ]
    }
   ],
   "source": [
    "bycategory_sales_df = product_orders_df.groupby(\n",
    "    ['product_category_name']\n",
    ").agg(\n",
    "    sold_count=('product_id', 'size'),\n",
    "    item_price=('price', 'first')\n",
    ").reset_index()\n",
    "\n",
    "bycategory_sales_df['total_sales'] = bycategory_sales_df['sold_count'] * bycategory_sales_df['item_price']\n",
    "\n",
    "print(bycategory_sales_df.sort_values(by='sold_count', ascending=False))"
   ]
  },
  {
   "cell_type": "markdown",
   "metadata": {},
   "source": [
    "#### Calculating Total Sales and Sold Count by Product"
   ]
  },
  {
   "cell_type": "markdown",
   "metadata": {},
   "source": [
    " Aktivitas ini menghitung jumlah unit yang terjual dan total penjualan untuk setiap produk. Dengan mengalikan jumlah produk yang terjual dengan harga produk, kita mendapatkan total penjualan untuk setiap produk."
   ]
  },
  {
   "cell_type": "code",
   "execution_count": 26,
   "metadata": {
    "scrolled": true
   },
   "outputs": [
    {
     "name": "stdout",
     "output_type": "stream",
     "text": [
      "                             product_id  sold_count  item_price  total_sales\n",
      "21716  aca2eb7d00ea1a7b8ebd4e68314663af         527       69.90     36837.30\n",
      "19387  99a4788cb24856965c36a24e339b6058         488       74.00     36112.00\n",
      "8453   422879e10f46682990de24d770e7f83d         484       53.90     26087.60\n",
      "7228   389d119b48cf3043d311335e499d9c6b         392       49.90     19560.80\n",
      "6947   368c6c730842d78016ad823897a372db         388       49.90     19361.20\n",
      "...                                 ...         ...         ...          ...\n",
      "13794  6cc58e27cae22a37b784841f0e4fb647           1       24.99        24.99\n",
      "13792  6cc2b92f841b20c5e39281a44a9c68bc           1      149.00       149.00\n",
      "13791  6cc0a02127c60fc252540ccd8487763a           1       41.00        41.00\n",
      "13787  6cbd4637b69fff7d983bb1a757febf71           1      356.49       356.49\n",
      "32327  fffe9eeff12fcbd74a2f2b007dde0c58           1      249.99       249.99\n",
      "\n",
      "[32328 rows x 4 columns]\n"
     ]
    }
   ],
   "source": [
    "byproduct_sales_df = product_orders_df.groupby(\n",
    "    ['product_id']\n",
    ").agg(\n",
    "    sold_count=('product_id', 'size'),\n",
    "    item_price=('price', 'first')\n",
    ").reset_index()\n",
    "\n",
    "byproduct_sales_df['total_sales'] = byproduct_sales_df['sold_count'] * byproduct_sales_df['item_price']\n",
    "\n",
    "print(byproduct_sales_df.sort_values(by='sold_count', ascending=False))"
   ]
  },
  {
   "cell_type": "markdown",
   "metadata": {},
   "source": [
    "#### Product Review Analysis and Sorting"
   ]
  },
  {
   "cell_type": "markdown",
   "metadata": {},
   "source": [
    "Aktivitas ini bertujuan untuk menganalisis data ulasan produk dan mengurutkannya berdasarkan skor ulasan. Data diambil dari dataframe `product_reviews_df`, yang mencakup produk dan ulasan terkait. Hasil dari analisis ini akan menunjukkan produk dengan skor ulasan tertinggi, memberikan wawasan tentang produk yang paling dihargai oleh pelanggan."
   ]
  },
  {
   "cell_type": "code",
   "execution_count": 27,
   "metadata": {},
   "outputs": [
    {
     "name": "stdout",
     "output_type": "stream",
     "text": [
      "                              product_id product_category_name  \\\n",
      "0       1e9e8ef04dbcff4541ed26657ea517e5             perfumery   \n",
      "64340   77ccda894b672fe1214b0101d108d7f7         health_beauty   \n",
      "64355   0f3de29f8370072525a20385ebbe889a         watches_gifts   \n",
      "64354   0f3de29f8370072525a20385ebbe889a         watches_gifts   \n",
      "64349   cfce05163d94540468fd6c92c62fa5db            housewares   \n",
      "...                                  ...                   ...   \n",
      "111104  e6b6e72a0e6be244a69261788f086429        bed_bath_table   \n",
      "111105  e6b6e72a0e6be244a69261788f086429        bed_bath_table   \n",
      "111366  391a014a66920fa0ce468319264e0232        consoles_games   \n",
      "111575  5bde14b0ba42a788655c3ebf4ba54597        bed_bath_table   \n",
      "111607  dfec64aac9b864b2807a7be33222b75f        bed_bath_table   \n",
      "\n",
      "                                order_id  order_item_id  \\\n",
      "0       e17e4f88e31525f7deef66779844ddce              1   \n",
      "64340   a013a41ba6127d4d8f594d0340d7627d              1   \n",
      "64355   6f6adb6239aa458699f94784b3bb978a              1   \n",
      "64354   056ab23f23c13e810d9ab8cbf9fd477d              1   \n",
      "64349   a9240cc919cc42178e1f3f9e15e79d23              1   \n",
      "...                                  ...            ...   \n",
      "111104  8fccc7922426ac1c14efd13857e57bff              1   \n",
      "111105  8fccc7922426ac1c14efd13857e57bff              2   \n",
      "111366  2fb41f7fd5712215690c4c8a37fdefc5              1   \n",
      "111575  c143d4b65e016cb4f04c7a723a4f55ec              1   \n",
      "111607  b8d77039678b54ada97e6420b3272850              1   \n",
      "\n",
      "                               seller_id shipping_limit_date   price  \\\n",
      "0       5670f4db5b62c43d542e1b2d56b0cf7c 2018-04-30 17:33:54   10.91   \n",
      "64340   13fa2a6c6b9d0f43cb588d7c82117a12 2017-08-25 02:15:26  418.00   \n",
      "64355   606ce7768feac12c5e8bd58db8b08f0f 2018-08-15 23:35:14  719.90   \n",
      "64354   fa1c13f2614d7b5c4749cbc52fecda94 2017-10-24 14:14:21  669.90   \n",
      "64349   b347677812ea483b0f528eaf8cbc09b7 2018-03-06 01:48:09  449.00   \n",
      "...                                  ...                 ...     ...   \n",
      "111104  a673821011d0cec28146ea42f5ab767f 2017-03-23 17:02:45  119.90   \n",
      "111105  a673821011d0cec28146ea42f5ab767f 2017-03-23 17:02:45  119.90   \n",
      "111366  ce27a3cc3c8cc1ea79d11e561e9bebb6 2017-09-04 23:15:18  129.90   \n",
      "111575  972d0f9cf61b499a4812cf0bfa3ad3c4 2018-04-04 21:27:23   77.63   \n",
      "111607  1e8b33f18b4f7598d87f5cbee2282cc2 2018-03-01 13:50:30   84.90   \n",
      "\n",
      "        freight_value                         review_id  review_score  \\\n",
      "0                7.39  d71da8fd8c6e3adef26be965f065b8a1           5.0   \n",
      "64340           20.18  8176288c10f094e0edb4f8d72a8e9aa8           5.0   \n",
      "64355           23.14  4b8cbeea3d13972f8b96e0a1735e4bfb           5.0   \n",
      "64354           16.19  f2239588e91aa2fcdfa24d0107b05b77           5.0   \n",
      "64349           42.41  184b5f3d95ad3af95c69c5f08b5ea959           5.0   \n",
      "...               ...                               ...           ...   \n",
      "111104          16.05                               NaN           NaN   \n",
      "111105          16.05                               NaN           NaN   \n",
      "111366          14.66                               NaN           NaN   \n",
      "111575          18.42                               NaN           NaN   \n",
      "111607           9.41                               NaN           NaN   \n",
      "\n",
      "       review_comment_title  \\\n",
      "0              Vale a pena    \n",
      "64340              No Title   \n",
      "64355              No Title   \n",
      "64354              No Title   \n",
      "64349              No Title   \n",
      "...                     ...   \n",
      "111104                  NaN   \n",
      "111105                  NaN   \n",
      "111366                  NaN   \n",
      "111575                  NaN   \n",
      "111607                  NaN   \n",
      "\n",
      "                                   review_comment_message  \\\n",
      "0       Super adooorei o delineador ele é bem preto e ...   \n",
      "64340                       Produto chegou no prazo e ok.   \n",
      "64355                                           Perfeito!   \n",
      "64354                                WEF2R2ER2ERF'23R'3ER   \n",
      "64349                                          No Comment   \n",
      "...                                                   ...   \n",
      "111104                                                NaN   \n",
      "111105                                                NaN   \n",
      "111366                                                NaN   \n",
      "111575                                                NaN   \n",
      "111607                                                NaN   \n",
      "\n",
      "       review_creation_date review_answer_timestamp  \n",
      "0                2018-04-28     2018-05-04 00:55:02  \n",
      "64340            2017-08-29     2017-09-01 23:29:24  \n",
      "64355            2018-08-15     2018-08-24 01:06:53  \n",
      "64354            2017-10-25     2017-10-27 18:39:59  \n",
      "64349            2018-03-16     2018-03-19 12:31:20  \n",
      "...                     ...                     ...  \n",
      "111104                  NaT                     NaT  \n",
      "111105                  NaT                     NaT  \n",
      "111366                  NaT                     NaT  \n",
      "111575                  NaT                     NaT  \n",
      "111607                  NaT                     NaT  \n",
      "\n",
      "[111678 rows x 14 columns]\n"
     ]
    }
   ],
   "source": [
    "product_reviews_df = pd.merge(\n",
    "    left=product_orders_df,\n",
    "    right=order_reviews_df,\n",
    "    how=\"left\",\n",
    "    left_on=\"order_id\",\n",
    "    right_on=\"order_id\"\n",
    ")\n",
    "product_reviews_df.head()\n",
    "print(product_reviews_df.sort_values(by='review_score', ascending=False))"
   ]
  },
  {
   "cell_type": "markdown",
   "metadata": {},
   "source": [
    "##### Identifying Sold Products Without Reviews"
   ]
  },
  {
   "cell_type": "markdown",
   "metadata": {},
   "source": [
    "Aktivitas ini bertujuan untuk mengidentifikasi produk yang telah terjual tetapi tidak memiliki ulasan. Dengan menggunakan kode `isna().sum()`, kita dapat memeriksa kolom ulasan yang kosong (NaN) untuk menemukan produk yang belum menerima ulasan."
   ]
  },
  {
   "cell_type": "code",
   "execution_count": 28,
   "metadata": {
    "scrolled": true
   },
   "outputs": [
    {
     "data": {
      "text/plain": [
       "product_id                   0\n",
       "product_category_name        0\n",
       "order_id                     0\n",
       "order_item_id                0\n",
       "seller_id                    0\n",
       "shipping_limit_date          0\n",
       "price                        0\n",
       "freight_value                0\n",
       "review_id                  928\n",
       "review_score               928\n",
       "review_comment_title       928\n",
       "review_comment_message     928\n",
       "review_creation_date       928\n",
       "review_answer_timestamp    928\n",
       "dtype: int64"
      ]
     },
     "execution_count": 28,
     "metadata": {},
     "output_type": "execute_result"
    }
   ],
   "source": [
    "product_reviews_df.isna().sum()"
   ]
  },
  {
   "cell_type": "markdown",
   "metadata": {},
   "source": [
    "##### Filling Missing Reviews with a Default Score of 0"
   ]
  },
  {
   "cell_type": "markdown",
   "metadata": {},
   "source": [
    "Aktivitas ini mengisi nilai ulasan yang hilang (NaN) dengan nilai default 0. Hal ini dilakukan untuk memastikan bahwa produk yang tidak memiliki ulasan tetap memiliki skor ulasan yang valid untuk analisis lebih lanjut."
   ]
  },
  {
   "cell_type": "code",
   "execution_count": 29,
   "metadata": {},
   "outputs": [
    {
     "data": {
      "text/plain": [
       "0"
      ]
     },
     "execution_count": 29,
     "metadata": {},
     "output_type": "execute_result"
    }
   ],
   "source": [
    "product_reviews_df['review_score'] = product_reviews_df['review_score'].fillna(0)\n",
    "\n",
    "product_reviews_df['review_score'].isna().sum()"
   ]
  },
  {
   "cell_type": "markdown",
   "metadata": {},
   "source": [
    "#### Calculating and Adjusting Review Scores and Counts by Product Category"
   ]
  },
  {
   "cell_type": "markdown",
   "metadata": {},
   "source": [
    "Aktivitas ini menghitung rata-rata skor ulasan dan jumlah ulasan per kategori produk. Jika kategori produk memiliki skor ulasan rata-rata 0, jumlah ulasan akan disesuaikan menjadi 0 untuk menghindari kebingungan."
   ]
  },
  {
   "cell_type": "code",
   "execution_count": 30,
   "metadata": {},
   "outputs": [
    {
     "name": "stdout",
     "output_type": "stream",
     "text": [
      "        product_category_name  average_review_score  review_count\n",
      "11          cds_dvds_musicals              4.642857            14\n",
      "29  fashion_childrens_clothes              4.500000             8\n",
      "8      books_general_interest              4.414105           553\n",
      "9              books_imported              4.400000            60\n",
      "10            books_technical              4.319703           269\n",
      "..                        ...                   ...           ...\n",
      "30      fashion_male_clothing              3.613636           132\n",
      "57           office_furniture              3.464433          1701\n",
      "46             home_comfort_2              3.266667            30\n",
      "23        diapers_and_hygiene              3.256410            39\n",
      "61      security_and_services              2.500000             2\n",
      "\n",
      "[71 rows x 3 columns]\n"
     ]
    }
   ],
   "source": [
    "bycategory_reviews_df = product_reviews_df.groupby(\n",
    "    ['product_category_name']\n",
    ").agg(\n",
    "    average_review_score=('review_score', 'mean'),\n",
    "    review_count=('review_score', 'size')\n",
    ").reset_index()\n",
    "\n",
    "bycategory_reviews_df['review_count'] = bycategory_reviews_df.apply(\n",
    "    lambda row: 0 if row['average_review_score'] == 0 else row['review_count'],\n",
    "    axis=1\n",
    ")\n",
    "\n",
    "print(bycategory_reviews_df.sort_values(by='average_review_score', ascending=False))"
   ]
  },
  {
   "cell_type": "markdown",
   "metadata": {},
   "source": [
    "#### Calculating and Adjusting Review Scores and Counts by Product"
   ]
  },
  {
   "cell_type": "markdown",
   "metadata": {},
   "source": [
    "Aktivitas ini mirip dengan aktivitas sebelumnya, tetapi dilakukan pada tingkat produk. Rata-rata skor ulasan dan jumlah ulasan dihitung per produk. Jika produk memiliki skor ulasan rata-rata 0, jumlah ulasan akan disesuaikan menjadi 0."
   ]
  },
  {
   "cell_type": "code",
   "execution_count": 31,
   "metadata": {
    "scrolled": false
   },
   "outputs": [
    {
     "name": "stdout",
     "output_type": "stream",
     "text": [
      "                             product_id  average_review_score  review_count\n",
      "21716  aca2eb7d00ea1a7b8ebd4e68314663af              3.996205           527\n",
      "19387  99a4788cb24856965c36a24e339b6058              3.826884           491\n",
      "8453   422879e10f46682990de24d770e7f83d              3.938398           487\n",
      "7228   389d119b48cf3043d311335e499d9c6b              4.107143           392\n",
      "6947   368c6c730842d78016ad823897a372db              3.892583           391\n",
      "...                                 ...                   ...           ...\n",
      "31251  f7641ea085e47945ed59b892a0e2fb4a              0.000000             0\n",
      "31263  f77f18b15df7b13a76cac068e285eb78              0.000000             0\n",
      "31375  f87e8ee07e668908ab8afef6e3e91dec              0.000000             0\n",
      "32016  fdab4c1b0c356b42df5846952f5b47af              0.000000             0\n",
      "32150  febdb23f0a5a9f93c101e489d2bfd352              0.000000             0\n",
      "\n",
      "[32328 rows x 3 columns]\n"
     ]
    }
   ],
   "source": [
    "byproduct_reviews_df = product_reviews_df.groupby(['product_id']).agg(\n",
    "    average_review_score=('review_score', 'mean'),\n",
    "    review_count=('review_score', 'size')\n",
    ").reset_index()\n",
    "\n",
    "byproduct_reviews_df['review_count'] = byproduct_reviews_df.apply(\n",
    "    lambda row: 0 if row['average_review_score'] == 0 else row['review_count'],\n",
    "    axis=1\n",
    ")\n",
    "\n",
    "print(byproduct_reviews_df.sort_values(by=['review_count', 'average_review_score'], ascending=False))"
   ]
  },
  {
   "cell_type": "markdown",
   "metadata": {},
   "source": [
    "#### Combining Product Reviews and Sales Data"
   ]
  },
  {
   "cell_type": "markdown",
   "metadata": {},
   "source": [
    "Aktivitas ini menggabungkan data ulasan dan data penjualan berdasarkan kategori produk. Ini memungkinkan kita untuk menganalisis ulasan dan penjualan pada tingkat kategori produk untuk mendapatkan wawasan yang lebih luas."
   ]
  },
  {
   "cell_type": "code",
   "execution_count": 32,
   "metadata": {
    "scrolled": false
   },
   "outputs": [
    {
     "name": "stdout",
     "output_type": "stream",
     "text": [
      "                             product_id  average_review_score  review_count  \\\n",
      "21716  aca2eb7d00ea1a7b8ebd4e68314663af              3.996205           527   \n",
      "19387  99a4788cb24856965c36a24e339b6058              3.826884           491   \n",
      "8453   422879e10f46682990de24d770e7f83d              3.938398           487   \n",
      "7228   389d119b48cf3043d311335e499d9c6b              4.107143           392   \n",
      "6947   368c6c730842d78016ad823897a372db              3.892583           391   \n",
      "...                                 ...                   ...           ...   \n",
      "13794  6cc58e27cae22a37b784841f0e4fb647              5.000000             1   \n",
      "13792  6cc2b92f841b20c5e39281a44a9c68bc              2.000000             1   \n",
      "13791  6cc0a02127c60fc252540ccd8487763a              5.000000             1   \n",
      "13787  6cbd4637b69fff7d983bb1a757febf71              1.000000             1   \n",
      "32327  fffe9eeff12fcbd74a2f2b007dde0c58              4.000000             1   \n",
      "\n",
      "       sold_count  item_price  total_sales  \n",
      "21716         527       69.90     36837.30  \n",
      "19387         488       74.00     36112.00  \n",
      "8453          484       53.90     26087.60  \n",
      "7228          392       49.90     19560.80  \n",
      "6947          388       49.90     19361.20  \n",
      "...           ...         ...          ...  \n",
      "13794           1       24.99        24.99  \n",
      "13792           1      149.00       149.00  \n",
      "13791           1       41.00        41.00  \n",
      "13787           1      356.49       356.49  \n",
      "32327           1      249.99       249.99  \n",
      "\n",
      "[32328 rows x 6 columns]\n"
     ]
    }
   ],
   "source": [
    "byproduct_combined_df = pd.merge(\n",
    "    byproduct_reviews_df,\n",
    "    byproduct_sales_df,\n",
    "    on='product_id',\n",
    "    how='left'\n",
    ")\n",
    "\n",
    "print(byproduct_combined_df.sort_values(by='sold_count', ascending=False))"
   ]
  },
  {
   "cell_type": "markdown",
   "metadata": {},
   "source": [
    "#### Combining Review and Sales Data by Product Category"
   ]
  },
  {
   "cell_type": "markdown",
   "metadata": {},
   "source": [
    " Aktivitas ini menggabungkan data ulasan produk dengan data penjualan per produk. Dengan menggabungkan kedua sumber data ini, kita dapat melihat hubungan antara jumlah ulasan dan penjualan setiap produk."
   ]
  },
  {
   "cell_type": "code",
   "execution_count": 33,
   "metadata": {
    "scrolled": false
   },
   "outputs": [
    {
     "name": "stdout",
     "output_type": "stream",
     "text": [
      "        product_category_name  average_review_score  review_count  sold_count  \\\n",
      "7              bed_bath_table              3.849689         11270       11115   \n",
      "43              health_beauty              4.107844          9727        9670   \n",
      "65             sports_leisure              4.079655          8700        8641   \n",
      "39            furniture_decor              3.864528          8415        8334   \n",
      "15      computers_accessories              3.908411          7894        7827   \n",
      "..                        ...                   ...           ...         ...   \n",
      "3       arts_and_craftmanship              4.125000            24          24   \n",
      "52                 la_cuisine              3.714286            14          14   \n",
      "11          cds_dvds_musicals              4.642857            14          14   \n",
      "29  fashion_childrens_clothes              4.500000             8           8   \n",
      "61      security_and_services              2.500000             2           2   \n",
      "\n",
      "    item_price  total_sales  \n",
      "7        71.99    800168.85  \n",
      "43       29.90    289133.00  \n",
      "65       79.80    689551.80  \n",
      "39        9.99     83256.66  \n",
      "15       69.90    547107.30  \n",
      "..         ...          ...  \n",
      "3       238.00      5712.00  \n",
      "52      174.00      2436.00  \n",
      "11       65.00       910.00  \n",
      "29       89.99       719.92  \n",
      "61      100.00       200.00  \n",
      "\n",
      "[71 rows x 6 columns]\n"
     ]
    }
   ],
   "source": [
    "bycategory_combined_df = pd.merge(\n",
    "    bycategory_reviews_df,\n",
    "    bycategory_sales_df,\n",
    "    on='product_category_name',\n",
    "    how='left'\n",
    ")\n",
    "\n",
    "print(bycategory_combined_df.sort_values(by='sold_count', ascending=False))"
   ]
  },
  {
   "cell_type": "markdown",
   "metadata": {
    "id": "zsyZjqak8DC2"
   },
   "source": [
    "## Visualization & Explanatory Analysis"
   ]
  },
  {
   "cell_type": "markdown",
   "metadata": {
    "id": "HZxOiQ6n8DC2"
   },
   "source": [
    "### Question 1:  Bagaimana hubungan antara rating produk dan kategori produk dalam hal jumlah ulasan dan rating rata-rata, dan apakah kategori produk tertentu memiliki rating lebih tinggi daripada yang lain?"
   ]
  },
  {
   "cell_type": "code",
   "execution_count": 34,
   "metadata": {
    "scrolled": false
   },
   "outputs": [
    {
     "data": {
      "image/png": "[encoded data removed]",
      "text/plain": [
       "<Figure size 1200x800 with 1 Axes>"
      ]
     },
     "metadata": {},
     "output_type": "display_data"
    }
   ],
   "source": [
    "plt.figure(figsize=(12, 8))\n",
    "\n",
    "scatter = sns.scatterplot(\n",
    "    x=\"review_count\",\n",
    "    y=\"average_review_score\",\n",
    "    size=\"total_sales\",\n",
    "    hue=\"review_count\",\n",
    "    data=bycategory_combined_df,\n",
    "    sizes=(50, 500),\n",
    "    alpha=0.7,\n",
    "    palette=\"coolwarm\"\n",
    ")\n",
    "\n",
    "\n",
    "plt.axvline(2000, color='gray', linestyle='--', linewidth=1.5, label='Review Count = 2000')\n",
    "\n",
    "\n",
    "plt.axhline(\n",
    "    y=bycategory_combined_df['average_review_score'].mean(),\n",
    "    color='red',\n",
    "    linestyle='--',\n",
    "    linewidth=1.5,\n",
    "    label='Average Rating'\n",
    ")\n",
    "\n",
    "\n",
    "plt.title(\"Review Count vs Average Review Score by Category\", fontsize=16)\n",
    "plt.xlabel(\"Number of Reviews\")\n",
    "plt.ylabel(\"Average Review Score\")\n",
    "\n",
    "\n",
    "handles, labels = scatter.get_legend_handles_labels()\n",
    "plt.legend(\n",
    "    handles=handles[:10],\n",
    "    labels=labels[:10], \n",
    "    title=\"Legend\",\n",
    "    loc=\"upper right\",\n",
    "    bbox_to_anchor=(1.25, 1)\n",
    ")\n",
    "\n",
    "plt.show()\n"
   ]
  },
  {
   "cell_type": "markdown",
   "metadata": {
    "id": "DgHI7CiU8DC2"
   },
   "source": [
    "### Question 2: Apa faktor-faktor yang paling berpengaruh terhadap total penjualan produk, berdasarkan harga, ulasan, dan kategori produk?"
   ]
  },
  {
   "cell_type": "code",
   "execution_count": 35,
   "metadata": {
    "id": "Go0lCsvO8DC2",
    "scrolled": false
   },
   "outputs": [
    {
     "data": {
      "image/png": "[encoded data removed]",
      "text/plain": [
       "<Figure size 1000x600 with 1 Axes>"
      ]
     },
     "metadata": {},
     "output_type": "display_data"
    }
   ],
   "source": [
    "top_sales_categories = bycategory_combined_df.sort_values(by='total_sales', ascending=False).head(10)\n",
    "top_sales_categories['total_sales_millions'] = top_sales_categories['total_sales'] / 1_000_000\n",
    "\n",
    "colors_ = [\"#72BCD4\", \"#D3D3D3\", \"#D3D3D3\", \"#D3D3D3\", \"#D3D3D3\", \"#D3D3D3\", \"#D3D3D3\", \"#D3D3D3\", \"#D3D3D3\", \"#D3D3D3\"]\n",
    "\n",
    "plt.figure(figsize=(10, 6))\n",
    "sns.barplot(\n",
    "    x=\"total_sales_millions\",\n",
    "    y=\"product_category_name\",\n",
    "    data=top_sales_categories,\n",
    "    palette=colors_\n",
    ")\n",
    "plt.title(\"Top 10 Product Categories by Total Sales (in Millions)\", fontsize=14)\n",
    "plt.xlabel(\"Total Sales (Millions)\")\n",
    "plt.ylabel(None)\n",
    "plt.show()\n"
   ]
  },
  {
   "cell_type": "code",
   "execution_count": 36,
   "metadata": {
    "scrolled": false
   },
   "outputs": [
    {
     "data": {
      "image/png": "[encoded data removed]",
      "text/plain": [
       "<Figure size 800x600 with 2 Axes>"
      ]
     },
     "metadata": {},
     "output_type": "display_data"
    }
   ],
   "source": [
    "plt.figure(figsize=(8, 6))\n",
    "correlation_matrix = bycategory_combined_df[[\"total_sales\", \"item_price\", \"review_count\", \"average_review_score\"]].corr()\n",
    "sns.heatmap(correlation_matrix, annot=True, cmap=\"coolwarm\", fmt=\".2f\", square=True)\n",
    "plt.title(\"Correlation Between Sales and Other Factors\", fontsize=14)\n",
    "plt.show()\n"
   ]
  },
  {
   "cell_type": "code",
   "execution_count": 37,
   "metadata": {
    "scrolled": false
   },
   "outputs": [
    {
     "data": {
      "image/png": "[encoded data removed]",
      "text/plain": [
       "<Figure size 1000x600 with 1 Axes>"
      ]
     },
     "metadata": {},
     "output_type": "display_data"
    }
   ],
   "source": [
    "bycategory_combined_df['total_sales'] = pd.to_numeric(bycategory_combined_df['total_sales'], errors='coerce')\n",
    "\n",
    "plt.figure(figsize=(10, 6))\n",
    "sns.scatterplot(\n",
    "    x=\"item_price\",\n",
    "    y=bycategory_combined_df[\"total_sales\"] / 1_000_000,\n",
    "    size=\"review_count\",\n",
    "    hue=\"average_review_score\",\n",
    "    data=bycategory_combined_df,\n",
    "    sizes=(50, 300),\n",
    "    alpha=0.8,\n",
    "    palette=\"coolwarm\"\n",
    ")\n",
    "plt.title(\"Price vs Total Sales (in millions)\", fontsize=14)\n",
    "plt.xlabel(\"Item Price\")\n",
    "plt.ylabel(\"Total Sales (in millions)\")\n",
    "plt.legend(title=\"Average Rating\", loc=\"upper right\")\n",
    "plt.show()"
   ]
  },
  {
   "cell_type": "markdown",
   "metadata": {
    "id": "9y4VUsmcYNZ5"
   },
   "source": [
    "## Analisis Lanjutan"
   ]
  },
  {
   "cell_type": "code",
   "execution_count": 38,
   "metadata": {
    "scrolled": true
   },
   "outputs": [
    {
     "name": "stdout",
     "output_type": "stream",
     "text": [
      "        product_category_name rating_cluster sold_count_cluster\n",
      "0  agro_industry_and_commerce         Medium                Low\n",
      "1            air_conditioning         Medium                Low\n",
      "2                         art         Medium                Low\n",
      "3       arts_and_craftmanship           High                Low\n",
      "4                       audio         Medium                Low\n"
     ]
    }
   ],
   "source": [
    "rating_bins = [0, 2, 4, 5]\n",
    "rating_labels = ['Low', 'Medium', 'High']\n",
    "bycategory_combined_df['rating_cluster'] = pd.cut(bycategory_combined_df['average_review_score'], bins=rating_bins, labels=rating_labels)\n",
    "\n",
    "sold_count_bins = [0, 500, 5000, float('inf')]\n",
    "sold_count_labels = ['Low', 'Medium', 'High']\n",
    "bycategory_combined_df['sold_count_cluster'] = pd.cut(bycategory_combined_df['sold_count'], bins=sold_count_bins, labels=sold_count_labels)\n",
    "\n",
    "print(bycategory_combined_df[['product_category_name', 'rating_cluster', 'sold_count_cluster']].head())"
   ]
  },
  {
   "cell_type": "code",
   "execution_count": 39,
   "metadata": {
    "scrolled": true
   },
   "outputs": [
    {
     "name": "stdout",
     "output_type": "stream",
     "text": [
      "  rating_cluster sold_count_cluster  sold_count  review_count  total_sales\n",
      "0            Low                Low           0             0         0.00\n",
      "1            Low             Medium           0             0         0.00\n",
      "2            Low               High           0             0         0.00\n",
      "3         Medium                Low        3879          3892    427204.02\n",
      "4         Medium             Medium       11545         11574    992335.87\n",
      "5         Medium               High       33267         33580   2029033.71\n",
      "6           High                Low        2667          2682    557152.65\n",
      "7           High             Medium       34390         34534   6876490.20\n",
      "8           High               High       25275         25416   1242620.40\n"
     ]
    }
   ],
   "source": [
    "cluster_summary = bycategory_combined_df.groupby(['rating_cluster', 'sold_count_cluster']).agg({\n",
    "    'sold_count': 'sum',\n",
    "    'review_count': 'sum',\n",
    "    'total_sales': 'sum'\n",
    "}).reset_index()\n",
    "\n",
    "print(cluster_summary)"
   ]
  },
  {
   "cell_type": "code",
   "execution_count": 40,
   "metadata": {
    "scrolled": false
   },
   "outputs": [
    {
     "data": {
      "image/png": "[encoded data removed]",
      "text/plain": [
       "<Figure size 1000x600 with 1 Axes>"
      ]
     },
     "metadata": {},
     "output_type": "display_data"
    }
   ],
   "source": [
    "plt.figure(figsize=(10, 6))\n",
    "sns.scatterplot(x='sold_count', y='average_review_score', hue='rating_cluster', style='sold_count_cluster', data=bycategory_combined_df, palette='viridis')\n",
    "\n",
    "plt.title('Clustering Based on Sold Count and Rating')\n",
    "plt.xlabel('Sold Count')\n",
    "plt.ylabel('Average Rating')\n",
    "plt.legend(title='Cluster', loc='upper right')\n",
    "plt.show()"
   ]
  },
  {
   "cell_type": "markdown",
   "metadata": {},
   "source": [
    "### Kesimpulan Clustering Berdasarkan Penjualan dan Rating:  \n",
    "Berdasarkan analisis clustering, kategori dengan penjualan tinggi memiliki rentang rating yang relatif sempit, artinya rating antar produk dalam kategori ini tidak terlalu bervariasi. Sementara itu, kategori dengan penjualan rendah menunjukkan perbedaan yang lebih besar dalam rating, dengan beberapa produk memiliki rating yang sangat tinggi dan lainnya sangat rendah. Ini mengindikasikan bahwa meskipun penjualan rendah, perbedaan persepsi pelanggan terhadap kualitas produk dalam kategori tersebut cukup besar.\n"
   ]
  },
  {
   "cell_type": "markdown",
   "metadata": {
    "id": "_WeHlCeX8DC2"
   },
   "source": [
    "## Conclusion"
   ]
  },
  {
   "cell_type": "markdown",
   "metadata": {
    "id": "ZTcyR48Y8DC2"
   },
   "source": [
    "### Q 1:  \n",
    "Hubungan antara rating produk dan kategori produk menunjukkan bahwa kategori dengan ulasan lebih dari 2000 memiliki rating yang lebih konsisten, sementara kategori dengan ulasan kurang dari 2000 cenderung memiliki rating yang lebih bervariasi. Beberapa kategori produk memiliki rating lebih tinggi daripada yang lain, tergantung pada jumlah ulasan yang diterima.\n",
    "\n",
    "### Q 2:  \n",
    "Faktor yang paling berpengaruh terhadap total penjualan adalah harga, jumlah ulasan, dan kategori produk. Produk dengan lebih banyak ulasan cenderung memiliki penjualan lebih tinggi. Harga juga berperan, namun kategori tertentu, seperti \"cool_stuff\", menunjukkan performa penjualan yang signifikan meski dengan harga atau jumlah ulasan yang lebih rendah.\n"
   ]
  },
  {
   "cell_type": "code",
   "execution_count": 43,
   "metadata": {},
   "outputs": [],
   "source": [
    "# Menyimpan DataFrame dalam CSV untuk membuat dashboard dengan SteramLit\n",
    "\n",
    "byproduct_combined_df.to_csv('byproduct_combined_data.csv', index=False)\n",
    "\n",
    "bycategory_combined_df.to_csv('bycategory_combined_data.csv', index=False)"
   ]
  }
 ],
 "metadata": {
  "colab": {
   "provenance": []
  },
  "kernelspec": {
   "display_name": "Python 3 (ipykernel)",
   "language": "python",
   "name": "python3"
  },
  "language_info": {
   "codemirror_mode": {
    "name": "ipython",
    "version": 3
   },
   "file_extension": ".py",
   "mimetype": "text/x-python",
   "name": "python",
   "nbconvert_exporter": "python",
   "pygments_lexer": "ipython3",
   "version": "3.10.9"
  },
  "vscode": {
   "interpreter": {
    "hash": "972b3bf27e332e87b5379f2791f6ef9dfc79c71018c370b0d7423235e20fe4d7"
   }
  }
 },
 "nbformat": 4,
 "nbformat_minor": 1
}
